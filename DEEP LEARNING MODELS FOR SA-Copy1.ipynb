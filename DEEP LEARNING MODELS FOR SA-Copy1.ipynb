{
 "cells": [
  {
   "cell_type": "code",
   "execution_count": 1,
   "metadata": {},
   "outputs": [
    {
     "name": "stderr",
     "output_type": "stream",
     "text": [
      "C:\\Users\\it\\Anaconda3\\lib\\site-packages\\h5py\\__init__.py:36: FutureWarning: Conversion of the second argument of issubdtype from `float` to `np.floating` is deprecated. In future, it will be treated as `np.float64 == np.dtype(float).type`.\n",
      "  from ._conv import register_converters as _register_converters\n",
      "Using TensorFlow backend.\n"
     ]
    }
   ],
   "source": [
    "import numpy as np \n",
    "import pandas as pd \n",
    "import nltk\n",
    "import os\n",
    "import gc\n",
    "from keras.preprocessing import sequence,text\n",
    "from keras.preprocessing.text import Tokenizer\n",
    "from keras.models import Sequential\n",
    "from keras.layers import Dense,Dropout,Embedding,LSTM,Conv1D,GlobalMaxPooling1D,Flatten,MaxPooling1D,GRU,SpatialDropout1D,Bidirectional\n",
    "from keras.callbacks import EarlyStopping\n",
    "from keras.utils import to_categorical\n",
    "from keras.losses import categorical_crossentropy\n",
    "from keras.optimizers import Adam\n",
    "from sklearn.model_selection import train_test_split\n",
    "from sklearn.metrics import accuracy_score,confusion_matrix,classification_report,f1_score\n",
    "import matplotlib.pyplot as plt\n",
    "from sklearn.feature_extraction.text import CountVectorizer\n",
    "from keras.preprocessing.sequence import pad_sequences\n",
    "from keras.utils.np_utils import to_categorical\n",
    "import re\n",
    "import warnings\n",
    "warnings.filterwarnings(\"ignore\")\n",
    "#pd.set_option('display.max_colwidth',100)\n",
    "pd.set_option('display.max_colwidth', -1)"
   ]
  },
  {
   "cell_type": "markdown",
   "metadata": {},
   "source": [
    "# Import DATA SET"
   ]
  },
  {
   "cell_type": "code",
   "execution_count": 2,
   "metadata": {},
   "outputs": [],
   "source": [
    "#import dataset\n",
    "data = pd.read_csv('dataset/cleand.csv')\n",
    "# Keeping only the neccessary columns\n",
    "data = data[['SentimentText','Sentiment']]"
   ]
  },
  {
   "cell_type": "code",
   "execution_count": 3,
   "metadata": {},
   "outputs": [],
   "source": [
    "max_fatures = 2000\n",
    "tokenizer = Tokenizer(num_words=max_fatures, split=' ')\n",
    "tokenizer.fit_on_texts(data['SentimentText'].values)\n",
    "X = tokenizer.texts_to_sequences(data['SentimentText'].values)\n",
    "X = pad_sequences(X)"
   ]
  },
  {
   "cell_type": "code",
   "execution_count": 4,
   "metadata": {},
   "outputs": [
    {
     "name": "stdout",
     "output_type": "stream",
     "text": [
      "(16750, 741) (16750, 2)\n",
      "(8250, 741) (8250, 2)\n"
     ]
    }
   ],
   "source": [
    "Y = pd.get_dummies(data['Sentiment']).values\n",
    "X_train, X_test, Y_train, Y_test = train_test_split(X,Y, test_size = 0.33, random_state = 42)\n",
    "print(X_train.shape,Y_train.shape)\n",
    "print(X_test.shape,Y_test.shape)"
   ]
  },
  {
   "cell_type": "markdown",
   "metadata": {},
   "source": [
    "# Implementing LSTM"
   ]
  },
  {
   "cell_type": "code",
   "execution_count": 4,
   "metadata": {},
   "outputs": [
    {
     "name": "stdout",
     "output_type": "stream",
     "text": [
      "_________________________________________________________________\n",
      "Layer (type)                 Output Shape              Param #   \n",
      "=================================================================\n",
      "embedding_1 (Embedding)      (None, 741, 128)          256000    \n",
      "_________________________________________________________________\n",
      "spatial_dropout1d_1 (Spatial (None, 741, 128)          0         \n",
      "_________________________________________________________________\n",
      "lstm_1 (LSTM)                (None, 196)               254800    \n",
      "_________________________________________________________________\n",
      "dense_1 (Dense)              (None, 2)                 394       \n",
      "=================================================================\n",
      "Total params: 511,194\n",
      "Trainable params: 511,194\n",
      "Non-trainable params: 0\n",
      "_________________________________________________________________\n",
      "None\n"
     ]
    }
   ],
   "source": [
    "embed_dim = 128\n",
    "lstm_out = 196\n",
    "\n",
    "model = Sequential()\n",
    "model.add(Embedding(max_fatures, embed_dim,input_length = X.shape[1]))\n",
    "model.add(SpatialDropout1D(0.4))\n",
    "model.add(LSTM(lstm_out, dropout=0.2, recurrent_dropout=0.2))\n",
    "model.add(Dense(2,activation='softmax'))\n",
    "model.compile(loss = 'categorical_crossentropy', optimizer='adam',metrics = ['accuracy'])\n",
    "print(model.summary())"
   ]
  },
  {
   "cell_type": "code",
   "execution_count": 6,
   "metadata": {},
   "outputs": [
    {
     "name": "stdout",
     "output_type": "stream",
     "text": [
      "Epoch 1/5\n",
      " - 1156s - loss: 0.4584 - acc: 0.7829\n",
      "Epoch 2/5\n",
      " - 1142s - loss: 0.3512 - acc: 0.8566\n",
      "Epoch 3/5\n",
      " - 1119s - loss: 0.3126 - acc: 0.8740\n",
      "Epoch 4/5\n",
      " - 1135s - loss: 0.2801 - acc: 0.8893\n",
      "Epoch 5/5\n",
      " - 1164s - loss: 0.2576 - acc: 0.8984\n"
     ]
    },
    {
     "data": {
      "text/plain": [
       "<keras.callbacks.History at 0x10aef198>"
      ]
     },
     "execution_count": 6,
     "metadata": {},
     "output_type": "execute_result"
    }
   ],
   "source": [
    "batch_size = 32\n",
    "model.fit(X_train, Y_train, epochs = 5, batch_size=batch_size, verbose = 2)"
   ]
  },
  {
   "cell_type": "code",
   "execution_count": 7,
   "metadata": {},
   "outputs": [
    {
     "name": "stdout",
     "output_type": "stream",
     "text": [
      "score: 0.41\n",
      "acc: 0.85\n"
     ]
    }
   ],
   "source": [
    "validation_size = 1500\n",
    "\n",
    "X_validate = X_test[-validation_size:]\n",
    "Y_validate = Y_test[-validation_size:]\n",
    "X_test = X_test[:-validation_size]\n",
    "Y_test = Y_test[:-validation_size]\n",
    "score,acc = model.evaluate(X_test, Y_test, verbose = 2, batch_size = batch_size)\n",
    "print(\"score: %.2f\" % (score))\n",
    "print(\"acc: %.2f\" % (acc))"
   ]
  },
  {
   "cell_type": "markdown",
   "metadata": {},
   "source": [
    "# Implementing CNN"
   ]
  },
  {
   "cell_type": "code",
   "execution_count": 6,
   "metadata": {},
   "outputs": [
    {
     "name": "stdout",
     "output_type": "stream",
     "text": [
      "_________________________________________________________________\n",
      "Layer (type)                 Output Shape              Param #   \n",
      "=================================================================\n",
      "embedding_1 (Embedding)      (None, 741, 100)          200000    \n",
      "_________________________________________________________________\n",
      "dropout_1 (Dropout)          (None, 741, 100)          0         \n",
      "_________________________________________________________________\n",
      "conv1d_1 (Conv1D)            (None, 741, 100)          20100     \n",
      "_________________________________________________________________\n",
      "global_max_pooling1d_1 (Glob (None, 100)               0         \n",
      "_________________________________________________________________\n",
      "dense_1 (Dense)              (None, 256)               25856     \n",
      "_________________________________________________________________\n",
      "dropout_2 (Dropout)          (None, 256)               0         \n",
      "_________________________________________________________________\n",
      "dense_2 (Dense)              (None, 2)                 514       \n",
      "=================================================================\n",
      "Total params: 246,470\n",
      "Trainable params: 246,470\n",
      "Non-trainable params: 0\n",
      "_________________________________________________________________\n"
     ]
    }
   ],
   "source": [
    "acc = []\n",
    "max_features= 2000\n",
    "model2= Sequential()\n",
    "model2.add(Embedding(max_features,100,input_length= X.shape[1]))\n",
    "model2.add(Dropout(0.2))\n",
    "\n",
    "model2.add(Conv1D(100,kernel_size=2,padding='same',activation='relu',strides=1))\n",
    "model2.add(GlobalMaxPooling1D())\n",
    "\n",
    "model2.add(Dense(256,activation='relu'))\n",
    "model2.add(Dropout(0.2))\n",
    "\n",
    "model2.add(Dense(2,activation='sigmoid'))\n",
    "\n",
    "\n",
    "model2.compile(loss='binary_crossentropy',optimizer='adam',metrics=['accuracy'])\n",
    "\n",
    "model2.summary()"
   ]
  },
  {
   "cell_type": "code",
   "execution_count": 7,
   "metadata": {},
   "outputs": [
    {
     "name": "stdout",
     "output_type": "stream",
     "text": [
      "Train on 16750 samples, validate on 8250 samples\n",
      "Epoch 1/5\n",
      " - 537s - loss: 0.4333 - acc: 0.7876 - val_loss: 0.3277 - val_acc: 0.8560\n",
      "Epoch 2/5\n",
      " - 507s - loss: 0.2680 - acc: 0.8911 - val_loss: 0.3195 - val_acc: 0.8624\n",
      "Epoch 3/5\n",
      " - 531s - loss: 0.1865 - acc: 0.9293 - val_loss: 0.3461 - val_acc: 0.8608\n",
      "Epoch 4/5\n",
      " - 654s - loss: 0.1259 - acc: 0.9538 - val_loss: 0.4258 - val_acc: 0.8519\n",
      "Epoch 5/5\n",
      " - 575s - loss: 0.0833 - acc: 0.9712 - val_loss: 0.4521 - val_acc: 0.8552\n",
      "Wall time: 46min 45s\n"
     ]
    }
   ],
   "source": [
    "%%time\n",
    "history2=model2.fit(X_train, Y_train, validation_data=(X_test, Y_test),epochs=5, batch_size=32, verbose=2)"
   ]
  },
  {
   "cell_type": "markdown",
   "metadata": {},
   "source": [
    "# CNN+GRU"
   ]
  },
  {
   "cell_type": "code",
   "execution_count": 8,
   "metadata": {},
   "outputs": [
    {
     "name": "stdout",
     "output_type": "stream",
     "text": [
      "_________________________________________________________________\n",
      "Layer (type)                 Output Shape              Param #   \n",
      "=================================================================\n",
      "embedding_2 (Embedding)      (None, 741, 100)          200000    \n",
      "_________________________________________________________________\n",
      "conv1d_2 (Conv1D)            (None, 741, 100)          30100     \n",
      "_________________________________________________________________\n",
      "max_pooling1d_1 (MaxPooling1 (None, 370, 100)          0         \n",
      "_________________________________________________________________\n",
      "dropout_3 (Dropout)          (None, 370, 100)          0         \n",
      "_________________________________________________________________\n",
      "gru_1 (GRU)                  (None, 370, 128)          87936     \n",
      "_________________________________________________________________\n",
      "dropout_4 (Dropout)          (None, 370, 128)          0         \n",
      "_________________________________________________________________\n",
      "flatten_1 (Flatten)          (None, 47360)             0         \n",
      "_________________________________________________________________\n",
      "dense_3 (Dense)              (None, 128)               6062208   \n",
      "_________________________________________________________________\n",
      "dropout_5 (Dropout)          (None, 128)               0         \n",
      "_________________________________________________________________\n",
      "dense_4 (Dense)              (None, 2)                 258       \n",
      "=================================================================\n",
      "Total params: 6,380,502\n",
      "Trainable params: 6,380,502\n",
      "Non-trainable params: 0\n",
      "_________________________________________________________________\n"
     ]
    }
   ],
   "source": [
    "max_features= 2000\n",
    "model3= Sequential()\n",
    "model3.add(Embedding(max_features,100,input_length= X.shape[1]))\n",
    "model3.add(Conv1D(100,kernel_size=3,padding='same',activation='relu'))\n",
    "model3.add(MaxPooling1D(pool_size=2))\n",
    "model3.add(Dropout(0.2))\n",
    "model3.add(GRU(128,return_sequences=True))\n",
    "model3.add(Dropout(0.3))\n",
    "model3.add(Flatten())\n",
    "model3.add(Dense(128,activation='relu'))\n",
    "model3.add(Dropout(0.5))\n",
    "model3.add(Dense(2,activation='softmax'))\n",
    "model3.compile(loss='categorical_crossentropy',optimizer=Adam(lr=0.001),metrics=['accuracy'])\n",
    "model3.summary()"
   ]
  },
  {
   "cell_type": "code",
   "execution_count": 9,
   "metadata": {},
   "outputs": [
    {
     "name": "stdout",
     "output_type": "stream",
     "text": [
      "Train on 16750 samples, validate on 8250 samples\n",
      "Epoch 1/5\n",
      " - 557s - loss: 0.4176 - acc: 0.8042 - val_loss: 0.3355 - val_acc: 0.8545\n",
      "Epoch 2/5\n",
      " - 529s - loss: 0.2795 - acc: 0.8891 - val_loss: 0.3183 - val_acc: 0.8652\n",
      "Epoch 3/5\n",
      " - 547s - loss: 0.2366 - acc: 0.9064 - val_loss: 0.3524 - val_acc: 0.8550\n",
      "Epoch 4/5\n",
      " - 541s - loss: 0.1798 - acc: 0.9301 - val_loss: 0.4126 - val_acc: 0.8509\n",
      "Epoch 5/5\n",
      " - 551s - loss: 0.1269 - acc: 0.9530 - val_loss: 0.4271 - val_acc: 0.8561\n",
      "Wall time: 45min 27s\n"
     ]
    }
   ],
   "source": [
    "%%time\n",
    "history3=model3.fit(X_train, Y_train, validation_data=(X_test, Y_test),epochs=5, batch_size=32, verbose=2)"
   ]
  },
  {
   "cell_type": "markdown",
   "metadata": {},
   "source": [
    "# implementing Bidirectional GRU"
   ]
  },
  {
   "cell_type": "code",
   "execution_count": 12,
   "metadata": {},
   "outputs": [
    {
     "name": "stdout",
     "output_type": "stream",
     "text": [
      "_________________________________________________________________\n",
      "Layer (type)                 Output Shape              Param #   \n",
      "=================================================================\n",
      "embedding_3 (Embedding)      (None, 741, 100)          200000    \n",
      "_________________________________________________________________\n",
      "spatial_dropout1d_2 (Spatial (None, 741, 100)          0         \n",
      "_________________________________________________________________\n",
      "bidirectional_1 (Bidirection (None, 256)               175872    \n",
      "_________________________________________________________________\n",
      "dropout_4 (Dropout)          (None, 256)               0         \n",
      "_________________________________________________________________\n",
      "dense_4 (Dense)              (None, 2)                 514       \n",
      "=================================================================\n",
      "Total params: 376,386\n",
      "Trainable params: 376,386\n",
      "Non-trainable params: 0\n",
      "_________________________________________________________________\n"
     ]
    }
   ],
   "source": [
    "max_features= 2000\n",
    "model4 = Sequential()\n",
    "\n",
    "model4.add(Embedding(max_features, 100, input_length= X.shape[1]))\n",
    "model4.add(SpatialDropout1D(0.2))\n",
    "model4.add(Bidirectional(GRU(128)))\n",
    "model4.add(Dropout(0.5))\n",
    "\n",
    "model4.add(Dense(2, activation='softmax'))\n",
    "model4.compile(loss='categorical_crossentropy', optimizer='adam', metrics=['accuracy'])\n",
    "model4.summary()"
   ]
  },
  {
   "cell_type": "code",
   "execution_count": 13,
   "metadata": {},
   "outputs": [
    {
     "name": "stdout",
     "output_type": "stream",
     "text": [
      "Train on 16750 samples, validate on 8250 samples\n",
      "Epoch 1/3\n",
      " - 22146s - loss: 0.4741 - acc: 0.7732 - val_loss: 0.3713 - val_acc: 0.8482\n",
      "Epoch 2/3\n",
      " - 7434s - loss: 0.3050 - acc: 0.8782 - val_loss: 0.3640 - val_acc: 0.8436\n",
      "Epoch 3/3\n",
      " - 2676s - loss: 0.2741 - acc: 0.8931 - val_loss: 0.3511 - val_acc: 0.8564\n",
      "Wall time: 8h 58min 5s\n"
     ]
    }
   ],
   "source": [
    "%%time\n",
    "history4=model4.fit(X_train, Y_train, validation_data=(X_test, Y_test),epochs= 3, batch_size= 32, verbose=2)"
   ]
  },
  {
   "cell_type": "markdown",
   "metadata": {},
   "source": [
    "# CNN LSTM"
   ]
  },
  {
   "cell_type": "code",
   "execution_count": 5,
   "metadata": {},
   "outputs": [
    {
     "name": "stdout",
     "output_type": "stream",
     "text": [
      "_________________________________________________________________\n",
      "Layer (type)                 Output Shape              Param #   \n",
      "=================================================================\n",
      "embedding_1 (Embedding)      (None, 741, 100)          200000    \n",
      "_________________________________________________________________\n",
      "conv1d_1 (Conv1D)            (None, 741, 100)          20100     \n",
      "_________________________________________________________________\n",
      "max_pooling1d_1 (MaxPooling1 (None, 370, 100)          0         \n",
      "_________________________________________________________________\n",
      "dropout_1 (Dropout)          (None, 370, 100)          0         \n",
      "_________________________________________________________________\n",
      "lstm_1 (LSTM)                (None, 370, 128)          117248    \n",
      "_________________________________________________________________\n",
      "dropout_2 (Dropout)          (None, 370, 128)          0         \n",
      "_________________________________________________________________\n",
      "flatten_1 (Flatten)          (None, 47360)             0         \n",
      "_________________________________________________________________\n",
      "dense_1 (Dense)              (None, 128)               6062208   \n",
      "_________________________________________________________________\n",
      "dropout_3 (Dropout)          (None, 128)               0         \n",
      "_________________________________________________________________\n",
      "dense_2 (Dense)              (None, 2)                 258       \n",
      "=================================================================\n",
      "Total params: 6,399,814\n",
      "Trainable params: 6,399,814\n",
      "Non-trainable params: 0\n",
      "_________________________________________________________________\n"
     ]
    }
   ],
   "source": [
    "max_features= 2000\n",
    "model5= Sequential()\n",
    "model5.add(Embedding(max_features,100,input_length= X.shape[1]))\n",
    "model5.add(Conv1D(100,kernel_size=2,padding='same',activation='relu'))\n",
    "model5.add(MaxPooling1D(pool_size=2))\n",
    "model5.add(Dropout(0.2))\n",
    "model5.add(LSTM(128,return_sequences=True))\n",
    "model5.add(Dropout(0.2))\n",
    "model5.add(Flatten())\n",
    "model5.add(Dense(128,activation='relu'))\n",
    "model5.add(Dropout(0.2))\n",
    "model5.add(Dense(2,activation='softmax'))\n",
    "model5.compile(loss='categorical_crossentropy',optimizer=Adam(lr=0.001),metrics=['accuracy'])\n",
    "model5.summary()"
   ]
  },
  {
   "cell_type": "code",
   "execution_count": 6,
   "metadata": {},
   "outputs": [
    {
     "name": "stdout",
     "output_type": "stream",
     "text": [
      "Train on 16750 samples, validate on 8250 samples\n",
      "Epoch 1/3\n",
      " - 1033s - loss: 0.3918 - acc: 0.8152 - val_loss: 0.3274 - val_acc: 0.8572\n",
      "Epoch 2/3\n",
      " - 990s - loss: 0.2707 - acc: 0.8907 - val_loss: 0.3342 - val_acc: 0.8549\n",
      "Epoch 3/3\n",
      " - 1026s - loss: 0.2237 - acc: 0.9127 - val_loss: 0.3830 - val_acc: 0.8578\n",
      "Wall time: 50min 52s\n"
     ]
    }
   ],
   "source": [
    "%%time\n",
    "history4=model5.fit(X_train, Y_train, validation_data=(X_test, Y_test),epochs= 3, batch_size= 32, verbose=2)"
   ]
  },
  {
   "cell_type": "markdown",
   "metadata": {},
   "source": [
    "# Bidirectional LSTM"
   ]
  },
  {
   "cell_type": "code",
   "execution_count": 17,
   "metadata": {},
   "outputs": [
    {
     "name": "stdout",
     "output_type": "stream",
     "text": [
      "_________________________________________________________________\n",
      "Layer (type)                 Output Shape              Param #   \n",
      "=================================================================\n",
      "embedding_5 (Embedding)      (None, 741, 100)          200000    \n",
      "_________________________________________________________________\n",
      "spatial_dropout1d_3 (Spatial (None, 741, 100)          0         \n",
      "_________________________________________________________________\n",
      "bidirectional_2 (Bidirection (None, 256)               234496    \n",
      "_________________________________________________________________\n",
      "dropout_8 (Dropout)          (None, 256)               0         \n",
      "_________________________________________________________________\n",
      "dense_7 (Dense)              (None, 2)                 514       \n",
      "=================================================================\n",
      "Total params: 435,010\n",
      "Trainable params: 435,010\n",
      "Non-trainable params: 0\n",
      "_________________________________________________________________\n"
     ]
    }
   ],
   "source": [
    "max_features= 2000\n",
    "model6 = Sequential()\n",
    "\n",
    "model6.add(Embedding(max_features, 100, input_length= X.shape[1]))\n",
    "model6.add(SpatialDropout1D(0.25))\n",
    "model6.add(Bidirectional(LSTM(128)))\n",
    "model6.add(Dropout(0.5))\n",
    "\n",
    "model6.add(Dense(2, activation='softmax'))\n",
    "model6.compile(loss='categorical_crossentropy', optimizer='adam', metrics=['accuracy'])\n",
    "model6.summary()"
   ]
  },
  {
   "cell_type": "code",
   "execution_count": 18,
   "metadata": {},
   "outputs": [
    {
     "name": "stdout",
     "output_type": "stream",
     "text": [
      "Train on 16750 samples, validate on 8250 samples\n",
      "Epoch 1/3\n",
      " - 1807s - loss: 0.4320 - acc: 0.7999 - val_loss: 0.3447 - val_acc: 0.8509\n",
      "Epoch 2/3\n",
      " - 1890s - loss: 0.3143 - acc: 0.8744 - val_loss: 0.3563 - val_acc: 0.8552\n",
      "Epoch 3/3\n",
      " - 2119s - loss: 0.2792 - acc: 0.8890 - val_loss: 0.4329 - val_acc: 0.8465\n",
      "Wall time: 1h 39min 11s\n"
     ]
    }
   ],
   "source": [
    "%%time\n",
    "history4=model6.fit(X_train, Y_train, validation_data=(X_test, Y_test),epochs= 3, batch_size= 32, verbose=2)"
   ]
  },
  {
   "cell_type": "code",
   "execution_count": null,
   "metadata": {},
   "outputs": [],
   "source": []
  }
 ],
 "metadata": {
  "kernelspec": {
   "display_name": "Python 3",
   "language": "python",
   "name": "python3"
  },
  "language_info": {
   "codemirror_mode": {
    "name": "ipython",
    "version": 3
   },
   "file_extension": ".py",
   "mimetype": "text/x-python",
   "name": "python",
   "nbconvert_exporter": "python",
   "pygments_lexer": "ipython3",
   "version": "3.6.5"
  }
 },
 "nbformat": 4,
 "nbformat_minor": 2
}
